{
 "cells": [
  {
   "cell_type": "code",
   "execution_count": 1,
   "metadata": {},
   "outputs": [
    {
     "data": {
      "text/plain": [
       "'2.1.0-dev20191106'"
      ]
     },
     "execution_count": 1,
     "metadata": {},
     "output_type": "execute_result"
    }
   ],
   "source": [
    "from __future__ import absolute_import, division, print_function, unicode_literals\n",
    "\n",
    "import tensorflow as tf\n",
    "import numpy as np\n",
    "import h5py as h5\n",
    "\n",
    "import matplotlib.pyplot as plt\n",
    "import random\n",
    "import glob\n",
    "\n",
    "tf.__version__"
   ]
  },
  {
   "cell_type": "code",
   "execution_count": 2,
   "metadata": {},
   "outputs": [],
   "source": [
    "import katdal\n",
    "import h5py"
   ]
  },
  {
   "cell_type": "code",
   "execution_count": 3,
   "metadata": {},
   "outputs": [
    {
     "name": "stderr",
     "output_type": "stream",
     "text": [
      "/.local/lib/python3.6/site-packages/katsdptelstate/telescope_state.py:338: FutureWarning: The telescope state contains pickled values. This is a security risk, but is allowed because MeerKAT data up to March 2019 uses it. You can suppress this warning by setting KATSDPTELSTATE_ALLOW_PICKLE=1 in the environment, or disable pickles by setting KATSDPTELSTATE_ALLOW_PICKLE=0.\n",
      "  warnings.warn(PICKLE_WARNING, FutureWarning)\n"
     ]
    }
   ],
   "source": [
    "# open an h5 file of a real observation\n",
    "rfile = katdal.open(\"1528301298_sdp_l0.full.rdb\")"
   ]
  },
  {
   "cell_type": "code",
   "execution_count": 4,
   "metadata": {},
   "outputs": [
    {
     "name": "stdout",
     "output_type": "stream",
     "text": [
      "===============================================================================\n",
      "Name: file:///1528301298_sdp_l0.full.rdb | 1528301298_sdp_l0 (version 4.0)\n",
      "===============================================================================\n",
      "Observer: Lindsay  Experiment ID: 20180606-0026\n",
      "Description: 'MKAIV-449 Three calibrator Imaging'\n",
      "Observed from 2018-06-06 16:08:25.400 UTC to 2018-06-06 17:53:26.734 UTC\n",
      "Dump rate / period: 0.12505 Hz / 7.997 s\n",
      "Subarrays: 1\n",
      "  ID  Antennas                            Inputs  Corrprods\n",
      "   0  m000,m001,m002,m003,m004,m005,m006,m007,m008,m009,m010,m011,m012,m013,m014,m015,m016,m017,m018,m019,m020,m022,m023,m024,m025,m026,m027,m028,m029,m030,m031,m032,m033,m034,m036,m037,m038,m039,m040,m041,m042,m043,m044,m045,m047,m048,m049,m050,m052,m053,m054,m055,m056,m057,m058,m059,m060,m061,m062,m063  120      7320\n",
      "Spectral Windows: 1\n",
      "  ID Band Product  CentreFreq(MHz)  Bandwidth(MHz)  Channels  ChannelWidth(kHz)\n",
      "   0 L    bc856M4k   1284.000         856.000           4096       208.984\n",
      "-------------------------------------------------------------------------------\n",
      "Data selected according to the following criteria:\n",
      "  ants=['m000', 'm001', 'm002', 'm003', 'm004', 'm005', 'm006', 'm007', 'm008', 'm009', 'm010', 'm011', 'm012', 'm013', 'm014', 'm015', 'm016', 'm017', 'm018', 'm019', 'm020', 'm022', 'm023', 'm024', 'm025', 'm026', 'm027', 'm028', 'm029', 'm030', 'm031', 'm032', 'm033', 'm034', 'm036', 'm037', 'm038', 'm039', 'm040', 'm041', 'm042', 'm043', 'm044', 'm045', 'm047', 'm048', 'm049', 'm050', 'm052', 'm053', 'm054', 'm055', 'm056', 'm057', 'm058', 'm059', 'm060', 'm061', 'm062', 'm063']\n",
      "  spw=0\n",
      "  subarray=0\n",
      "-------------------------------------------------------------------------------\n",
      "Shape: (788 dumps, 4096 channels, 7320 correlation products) => Size: 189.011 GB\n",
      "Antennas: m000,m001,m002,m003,m004,m005,m006,m007,m008,m009,m010,m011,m012,m013,m014,m015,m016,m017,m018,m019,m020,m022,m023,m024,m025,m026,m027,m028,m029,m030,m031,m032,m033,m034,m036,m037,m038,m039,m040,m041,m042,m043,m044,m045,m047,m048,m049,m050,m052,m053,m054,m055,m056,m057,m058,m059,m060,m061,m062,m063  Inputs: 120  Autocorr: yes  Crosscorr: yes\n",
      "Channels: 4096 (index 0 - 4095,  856.000 MHz - 1711.791 MHz), each 208.984 kHz wide\n",
      "Targets: 3 selected out of 3 in catalogue\n",
      "  ID  Name         Type      RA(J2000)     DEC(J2000)  Tags                       Dumps  ModelFlux(Jy)\n",
      "   0  PKS 0408-65  radec      4:08:20.38  -65:45:09.1  bfcal single_accumulation    198      14.81\n",
      "   1  3C286        radec     13:31:08.29   30:30:33.0  bfcal single_accumulation    496      15.37\n",
      "   2  PKS 1934-63  radec     19:39:25.03  -63:42:45.7  bfcal single_accumulation     94      14.46\n",
      "Scans: 31 selected out of 31 total       Compscans: 18 selected out of 18 total\n",
      "  Date        Timerange(UTC)       ScanState  CompScanLabel  Dumps  Target\n",
      "  06-Jun-2018/16:08:29 - 16:09:57    0:slew     0:track         12    0:PKS 0408-65\n",
      "              16:10:05 - 16:14:53    1:track    0:track         37    0:PKS 0408-65\n",
      "              16:15:01 - 16:16:29    2:slew     1:track         12    1:3C286\n",
      "              16:16:37 - 16:21:25    3:track    1:track         37    1:3C286\n",
      "              16:21:33 - 16:23:01    4:slew     2:track         12    0:PKS 0408-65\n",
      "              16:23:09 - 16:27:56    5:track    2:track         37    0:PKS 0408-65\n",
      "              16:28:04 - 16:29:40    6:slew     3:track         13    1:3C286\n",
      "              16:29:48 - 16:34:28    7:track    3:track         36    1:3C286\n",
      "              16:34:36 - 16:36:12    8:slew     4:track         13    0:PKS 0408-65\n",
      "              16:36:20 - 16:41:08    9:track    4:track         37    0:PKS 0408-65\n",
      "              16:41:16 - 16:42:44   10:slew     5:track         12    1:3C286\n",
      "              16:42:52 - 16:47:40   11:track    5:track         37    1:3C286\n",
      "              16:47:48 - 16:49:24   12:slew     6:track         13    0:PKS 0408-65\n",
      "              16:49:32 - 16:54:20   13:track    6:track         37    0:PKS 0408-65\n",
      "              16:54:28 - 16:55:56   14:slew     7:track         12    1:3C286\n",
      "              16:56:04 - 17:00:52   15:track    7:track         37    1:3C286\n",
      "              17:01:00 - 17:05:47   16:track    8:track         37    1:3C286\n",
      "              17:05:55 - 17:10:51   17:track    9:track         38    1:3C286\n",
      "              17:10:59 - 17:15:55   18:track   10:track         38    1:3C286\n",
      "              17:16:03 - 17:20:51   19:track   11:track         37    1:3C286\n",
      "              17:20:59 - 17:25:55   20:track   12:track         38    1:3C286\n",
      "              17:26:03 - 17:30:59   21:track   13:track         38    1:3C286\n",
      "              17:31:07 - 17:32:19   22:slew    14:track         10    2:PKS 1934-63\n",
      "              17:32:27 - 17:37:15   23:track   14:track         37    2:PKS 1934-63\n",
      "              17:37:23 - 17:38:35   24:slew    15:track         10    1:3C286\n",
      "              17:38:43 - 17:43:30   25:track   15:track         37    1:3C286\n",
      "              17:43:38 - 17:44:50   26:slew    16:track         10    2:PKS 1934-63\n",
      "              17:44:58 - 17:49:46   27:track   16:track         37    2:PKS 1934-63\n",
      "              17:49:54 - 17:51:06   28:slew    17:track         10    1:3C286\n",
      "              17:51:14 - 17:53:14   29:track   17:track         16    1:3C286\n",
      "              17:53:22 - 17:53:22   30:stop    17:track          1    1:3C286\n"
     ]
    }
   ],
   "source": [
    "print(rfile)"
   ]
  },
  {
   "cell_type": "code",
   "execution_count": 5,
   "metadata": {},
   "outputs": [],
   "source": [
    "arr = rfile.select"
   ]
  },
  {
   "cell_type": "code",
   "execution_count": 6,
   "metadata": {},
   "outputs": [
    {
     "ename": "AttributeError",
     "evalue": "'function' object has no attribute 'shape'",
     "output_type": "error",
     "traceback": [
      "\u001b[0;31m---------------------------------------------------------------------------\u001b[0m",
      "\u001b[0;31mAttributeError\u001b[0m                            Traceback (most recent call last)",
      "\u001b[0;32m<ipython-input-6-befda643fb2d>\u001b[0m in \u001b[0;36m<module>\u001b[0;34m\u001b[0m\n\u001b[0;32m----> 1\u001b[0;31m \u001b[0;34m(\u001b[0m\u001b[0;34m*\u001b[0m\u001b[0;34m(\u001b[0m\u001b[0marr\u001b[0m\u001b[0;34m.\u001b[0m\u001b[0mshape\u001b[0m\u001b[0;34m)\u001b[0m\u001b[0;34m,\u001b[0m \u001b[0;36m1\u001b[0m\u001b[0;34m)\u001b[0m\u001b[0;34m\u001b[0m\u001b[0;34m\u001b[0m\u001b[0m\n\u001b[0m",
      "\u001b[0;31mAttributeError\u001b[0m: 'function' object has no attribute 'shape'"
     ]
    }
   ],
   "source": [
    "(*(arr.shape), 1)"
   ]
  },
  {
   "cell_type": "code",
   "execution_count": null,
   "metadata": {},
   "outputs": [],
   "source": [
    "v_obs=arr.reshape(*(arr.shape), 1)\n",
    "v_obs = np.swapaxes(v_obs, 1, 2)\n",
    "v_obs.shape"
   ]
  },
  {
   "cell_type": "code",
   "execution_count": null,
   "metadata": {},
   "outputs": [],
   "source": [
    "v_obs.dtype\n",
    "random_corr_prod = np.random.randint(v_obs.shape[1])"
   ]
  },
  {
   "cell_type": "code",
   "execution_count": null,
   "metadata": {},
   "outputs": [],
   "source": [
    "# check that everything seems plausible by generating a few plots\n",
    "fig, ((ax1, ax2)) = plt.subplots(2, 1, sharex=True, figsize=(16., 4))\n",
    "#fig = plt.figure(figsize=(4., 16.))\n",
    "\n",
    "#pcm = ax1.pcolor(X, Y, Z,\n",
    "#                   norm=colors.LogNorm(vmin=Z.min(), vmax=Z.max()),\n",
    "#                   cmap='PuBu_r')\n",
    "\n",
    "#fig.colorbar(ax=ax1, extend='max')\n",
    "\n",
    "m1 = ax1.imshow(np.log(np.abs(v_obs[:,0,:,0])), cmap='magma')\n",
    "plt.colorbar(m1)\n",
    "\n",
    "m2 = ax2.imshow(np.angle(v_obs[:,0,:,0]))\n",
    "plt.colorbar(m2)\n",
    "\n",
    "#ax2.imshow(np.abs(v_ast[:,0,:,0]))\n",
    "#ax3.imshow(np.log(np.angle(v_ast[:,0,:,0])), cmap='Pastel1') #np.log(np.abs(v_rfi[:,0,:,0]+ noise[:,0,:,0])))\n"
   ]
  },
  {
   "cell_type": "code",
   "execution_count": null,
   "metadata": {},
   "outputs": [],
   "source": [
    "# why is the phase always zero?\n",
    "# A: you used the first 15 corr products, which are actually autocorrelations?\n",
    "v_obs[np.random.randint(v_obs.shape[0]), np.random.randint(v_obs.shape[1]), np.random.randint(v_obs.shape[2]), np.random.randint(v_obs.shape[3])]"
   ]
  },
  {
   "cell_type": "code",
   "execution_count": null,
   "metadata": {},
   "outputs": [],
   "source": [
    "v_obs.shape"
   ]
  },
  {
   "cell_type": "code",
   "execution_count": null,
   "metadata": {},
   "outputs": [],
   "source": []
  }
 ],
 "metadata": {
  "kernelspec": {
   "display_name": "Python 3",
   "language": "python",
   "name": "python3"
  },
  "language_info": {
   "codemirror_mode": {
    "name": "ipython",
    "version": 3
   },
   "file_extension": ".py",
   "mimetype": "text/x-python",
   "name": "python",
   "nbconvert_exporter": "python",
   "pygments_lexer": "ipython3",
   "version": "3.6.8"
  }
 },
 "nbformat": 4,
 "nbformat_minor": 2
}
